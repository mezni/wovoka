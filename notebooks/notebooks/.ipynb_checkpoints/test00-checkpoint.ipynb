{
 "cells": [
  {
   "cell_type": "code",
   "execution_count": 1,
   "id": "cbde5fa0-c9f7-4746-ad5c-b6ee86d16b95",
   "metadata": {},
   "outputs": [],
   "source": [
    "import sklearn"
   ]
  },
  {
   "cell_type": "code",
   "execution_count": 2,
   "id": "25c24162-8671-4d4c-8b66-0b2052635433",
   "metadata": {},
   "outputs": [],
   "source": [
    "from sklearn.datasets import load_iris"
   ]
  },
  {
   "cell_type": "code",
   "execution_count": 3,
   "id": "498bd5a9-8e33-4d5f-97cd-ec87f91f0e12",
   "metadata": {},
   "outputs": [],
   "source": [
    "X, y = load_iris(return_X_y=True)"
   ]
  },
  {
   "cell_type": "code",
   "execution_count": 5,
   "id": "9aad0bc0-a5b3-4c89-b238-cca464729ef0",
   "metadata": {},
   "outputs": [
    {
     "ename": "NameError",
     "evalue": "name 'IsolationForest' is not defined",
     "output_type": "error",
     "traceback": [
      "\u001b[31m---------------------------------------------------------------------------\u001b[39m",
      "\u001b[31mNameError\u001b[39m                                 Traceback (most recent call last)",
      "\u001b[36mCell\u001b[39m\u001b[36m \u001b[39m\u001b[32mIn[5]\u001b[39m\u001b[32m, line 6\u001b[39m\n\u001b[32m      2\u001b[39m \u001b[38;5;28;01mimport\u001b[39;00m\u001b[38;5;250m \u001b[39m\u001b[34;01mmatplotlib\u001b[39;00m\u001b[34;01m.\u001b[39;00m\u001b[34;01mpyplot\u001b[39;00m\u001b[38;5;250m \u001b[39m\u001b[38;5;28;01mas\u001b[39;00m\u001b[38;5;250m \u001b[39m\u001b[34;01mplt\u001b[39;00m\n\u001b[32m      4\u001b[39m X, _ = make_blobs(n_samples=\u001b[32m300\u001b[39m, centers=\u001b[32m1\u001b[39m, cluster_std=\u001b[32m0.60\u001b[39m, random_state=\u001b[32m0\u001b[39m)\n\u001b[32m----> \u001b[39m\u001b[32m6\u001b[39m model = \u001b[43mIsolationForest\u001b[49m(contamination=\u001b[32m0.05\u001b[39m)\n\u001b[32m      7\u001b[39m model.fit(X)\n\u001b[32m      8\u001b[39m y_pred = model.predict(X)\n",
      "\u001b[31mNameError\u001b[39m: name 'IsolationForest' is not defined"
     ]
    }
   ],
   "source": [
    "from sklearn.datasets import make_blobs\n",
    "import matplotlib.pyplot as plt\n",
    "from sklearn.ensemble import IsolationForest\n",
    "\n",
    "X, _ = make_blobs(n_samples=300, centers=1, cluster_std=0.60, random_state=0)\n",
    "\n",
    "model = IsolationForest(contamination=0.05)\n",
    "model.fit(X)\n",
    "y_pred = model.predict(X)\n",
    "\n",
    "# Visualization\n",
    "plt.scatter(X[:, 0], X[:, 1], c=y_pred, cmap='coolwarm')\n",
    "plt.title(\"Anomaly Detection with Isolation Forest\")\n",
    "plt.show()\n"
   ]
  },
  {
   "cell_type": "code",
   "execution_count": null,
   "id": "54e38391-f62a-4db2-8206-4a9a76400620",
   "metadata": {},
   "outputs": [],
   "source": []
  }
 ],
 "metadata": {
  "kernelspec": {
   "display_name": "Python 3 (ipykernel)",
   "language": "python",
   "name": "python3"
  },
  "language_info": {
   "codemirror_mode": {
    "name": "ipython",
    "version": 3
   },
   "file_extension": ".py",
   "mimetype": "text/x-python",
   "name": "python",
   "nbconvert_exporter": "python",
   "pygments_lexer": "ipython3",
   "version": "3.12.11"
  }
 },
 "nbformat": 4,
 "nbformat_minor": 5
}
