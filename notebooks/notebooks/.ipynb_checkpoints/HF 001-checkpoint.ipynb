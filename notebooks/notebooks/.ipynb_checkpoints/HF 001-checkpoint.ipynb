{
 "cells": [
  {
   "cell_type": "code",
   "execution_count": 3,
   "id": "f9d24253-e7c3-42cf-9235-2f77cf913799",
   "metadata": {},
   "outputs": [
    {
     "name": "stdout",
     "output_type": "stream",
     "text": [
      "Token loaded? True\n"
     ]
    }
   ],
   "source": [
    "from huggingface_hub import login\n",
    "import os\n",
    "\n",
    "token = os.getenv(\"HUGGINGFACEHUB_API_TOKEN\")\n",
    "login(token=token)  \n",
    "print(\"Token loaded?\" , token is not None)\n"
   ]
  },
  {
   "cell_type": "code",
   "execution_count": 6,
   "id": "8f878155-7560-49f2-bbb4-2c984da453af",
   "metadata": {},
   "outputs": [
    {
     "name": "stderr",
     "output_type": "stream",
     "text": [
      "Device set to use cpu\n",
      "Truncation was not explicitly activated but `max_length` is provided a specific value, please use `truncation=True` to explicitly truncate examples to max length. Defaulting to 'longest_first' truncation strategy. If you encode pairs of sequences (GLUE-style) with the tokenizer you can select this strategy more precisely by providing a specific strategy to `truncation`.\n",
      "Setting `pad_token_id` to `eos_token_id`:50256 for open-end generation.\n",
      "Both `max_new_tokens` (=256) and `max_length`(=50) seem to have been set. `max_new_tokens` will take precedence. Please refer to the documentation for more information. (https://huggingface.co/docs/transformers/main/en/main_classes/text_generation)\n"
     ]
    }
   ],
   "source": [
    "from transformers import pipeline, set_seed\n",
    "\n",
    "# Load the text generation pipeline\n",
    "generator = pipeline(\"text-generation\", model=\"gpt2\")\n",
    "set_seed(42)  # For reproducibility\n",
    "\n",
    "# Define your prompt\n",
    "prompt = \"Suggest some traditional Indian dishes:\"\n",
    "\n",
    "# Generate output\n",
    "results = generator(prompt, max_length=50, num_return_sequences=3)\n",
    "\n",
    "# Print the results\n",
    "#for i, result in enumerate(results):\n",
    "#    print(f\"\\nGenerated Dish List {i+1}:\\n{result['generated_text']}\")\n"
   ]
  },
  {
   "cell_type": "code",
   "execution_count": 7,
   "id": "cf4b0f04-ea20-4caf-b9ec-dba6d72601dc",
   "metadata": {},
   "outputs": [
    {
     "name": "stderr",
     "output_type": "stream",
     "text": [
      "Device set to use cpu\n"
     ]
    },
    {
     "name": "stdout",
     "output_type": "stream",
     "text": [
      "[{'summary_text': 'Liana Barrientos, 39, is charged with two counts of \"offering a false instrument for filing in the first degree\" In total, she has been married 10 times, with nine of her marriages occurring between 1999 and 2002. She is believed to still be married to four men.'}]\n"
     ]
    }
   ],
   "source": [
    "from transformers import pipeline\n",
    "\n",
    "summarizer = pipeline(\"summarization\", model=\"facebook/bart-large-cnn\")\n",
    "\n",
    "ARTICLE = \"\"\" New York (CNN)When Liana Barrientos was 23 years old, she got married in Westchester County, New York.\n",
    "A year later, she got married again in Westchester County, but to a different man and without divorcing her first husband.\n",
    "Only 18 days after that marriage, she got hitched yet again. Then, Barrientos declared \"I do\" five more times, sometimes only within two weeks of each other.\n",
    "In 2010, she married once more, this time in the Bronx. In an application for a marriage license, she stated it was her \"first and only\" marriage.\n",
    "Barrientos, now 39, is facing two criminal counts of \"offering a false instrument for filing in the first degree,\" referring to her false statements on the\n",
    "2010 marriage license application, according to court documents.\n",
    "Prosecutors said the marriages were part of an immigration scam.\n",
    "On Friday, she pleaded not guilty at State Supreme Court in the Bronx, according to her attorney, Christopher Wright, who declined to comment further.\n",
    "After leaving court, Barrientos was arrested and charged with theft of service and criminal trespass for allegedly sneaking into the New York subway through an emergency exit, said Detective\n",
    "Annette Markowski, a police spokeswoman. In total, Barrientos has been married 10 times, with nine of her marriages occurring between 1999 and 2002.\n",
    "All occurred either in Westchester County, Long Island, New Jersey or the Bronx. She is believed to still be married to four men, and at one time, she was married to eight men at once, prosecutors say.\n",
    "Prosecutors said the immigration scam involved some of her husbands, who filed for permanent residence status shortly after the marriages.\n",
    "Any divorces happened only after such filings were approved. It was unclear whether any of the men will be prosecuted.\n",
    "The case was referred to the Bronx District Attorney\\'s Office by Immigration and Customs Enforcement and the Department of Homeland Security\\'s\n",
    "Investigation Division. Seven of the men are from so-called \"red-flagged\" countries, including Egypt, Turkey, Georgia, Pakistan and Mali.\n",
    "Her eighth husband, Rashid Rajput, was deported in 2006 to his native Pakistan after an investigation by the Joint Terrorism Task Force.\n",
    "If convicted, Barrientos faces up to four years in prison.  Her next court appearance is scheduled for May 18.\n",
    "\"\"\"\n",
    "print(summarizer(ARTICLE, max_length=130, min_length=30, do_sample=False))"
   ]
  },
  {
   "cell_type": "code",
   "execution_count": 8,
   "id": "08fe2150-be9b-43b0-b92e-fdce0c3f992e",
   "metadata": {},
   "outputs": [
    {
     "name": "stdin",
     "output_type": "stream",
     "text": [
      "\n",
      "Enter text to summarize:\n",
      " 12\n",
      "Enter target age for simplification:\n",
      " 12\n"
     ]
    },
    {
     "name": "stdout",
     "output_type": "stream",
     "text": [
      "\n",
      "🔹 **Generated Summary:**\n",
      ". 12. Summarize the following text in a way a 12-year-old would understand. For example, say the word \"fascination\" is used to describe a person's love of reading. For more information, visit www.fascinate.org. For further information, go to: http://fascinating.org/.\n"
     ]
    }
   ],
   "source": [
    "from transformers import pipeline\n",
    "from langchain_huggingface import HuggingFacePipeline\n",
    "from langchain.prompts import PromptTemplate\n",
    "from transformers.utils.logging import set_verbosity_error\n",
    "set_verbosity_error()\n",
    "\n",
    "# Load Hugging Face Summarization Pipeline\n",
    "model = pipeline(\"summarization\", model=\"facebook/bart-large-cnn\", device=0)\n",
    "\n",
    "# Wrap it inside LangChain\n",
    "llm = HuggingFacePipeline(pipeline=model)\n",
    "\n",
    "# Create the prompt template for summarization\n",
    "template = PromptTemplate.from_template(\n",
    "    \"Summarize the following text in a way a {age} year old would understand:\\n\\n{text}\"\n",
    ")\n",
    "\n",
    "summarizer_chain = template | llm\n",
    "\n",
    "# Get user input\n",
    "text_to_summarize = input(\"\\nEnter text to summarize:\\n\")\n",
    "age = input(\"Enter target age for simplification:\\n\")\n",
    "\n",
    "# Execute the summarization chain\n",
    "summary = summarizer_chain.invoke({\"text\": text_to_summarize, \"age\": age})\n",
    "\n",
    "print(\"\\n🔹 **Generated Summary:**\")\n",
    "print(summary)"
   ]
  },
  {
   "cell_type": "code",
   "execution_count": null,
   "id": "0a8c067c-3bf5-41cf-b451-eb5b7bfefa38",
   "metadata": {},
   "outputs": [],
   "source": [
    "from transformers import pipeline\n",
    "from langchain_huggingface import HuggingFacePipeline\n",
    "from langchain.prompts import PromptTemplate\n",
    "from transformers.utils.logging import set_verbosity_error\n",
    "\n",
    "set_verbosity_error()\n",
    "\n",
    "summarization_pipeline = pipeline(\"summarization\", model=\"facebook/bart-large-cnn\", device=0)\n",
    "summarizer = HuggingFacePipeline(pipeline=summarization_pipeline)\n",
    "\n",
    "refinement_pipeline = pipeline(\"summarization\", model=\"facebook/bart-large\", device=0)\n",
    "refiner = HuggingFacePipeline(pipeline=refinement_pipeline)\n",
    "\n",
    "qa_pipeline = pipeline(\"question-answering\", model=\"deepset/roberta-base-squad2\", device=0)\n",
    "\n",
    "summary_template = PromptTemplate.from_template(\"Summarize the following text in a {length} way:\\n\\n{text}\")\n",
    "\n",
    "summarization_chain = summary_template | summarizer | refiner\n",
    "\n",
    "text_to_summarize = input(\"\\nEnter text to summarize:\\n\")\n",
    "length = input(\"\\nEnter the length (short/medium/long): \")\n",
    "\n",
    "summary = summarization_chain.invoke({\"text\": text_to_summarize, \"length\": length})\n",
    "\n",
    "print(\"\\n🔹 **Generated Summary:**\")\n",
    "print(summary)\n",
    "\n",
    "while True:\n",
    "    question = input(\"\\nAsk a question about the summary (or type 'exit' to stop):\\n\")\n",
    "    if question.lower() == \"exit\":\n",
    "        break\n",
    "\n",
    "    qa_result = qa_pipeline(question=question, context=summary)\n",
    "\n",
    "    print(\"\\n🔹 **Answer:**\")\n",
    "    print(qa_result[\"answer\"])"
   ]
  }
 ],
 "metadata": {
  "kernelspec": {
   "display_name": "Python 3 (ipykernel)",
   "language": "python",
   "name": "python3"
  },
  "language_info": {
   "codemirror_mode": {
    "name": "ipython",
    "version": 3
   },
   "file_extension": ".py",
   "mimetype": "text/x-python",
   "name": "python",
   "nbconvert_exporter": "python",
   "pygments_lexer": "ipython3",
   "version": "3.12.11"
  }
 },
 "nbformat": 4,
 "nbformat_minor": 5
}
